{
 "cells": [
  {
   "cell_type": "markdown",
   "metadata": {},
   "source": [
    "# Easy Questions Notebook 1\n",
    "\n",
    "Welcome folks! Here is the first notebook of the Easy questions series. I will be undertaking these questions, starting out with the very first leetcode problem. It can be found below:"
   ]
  },
  {
   "cell_type": "markdown",
   "metadata": {},
   "source": [
    "## 1. Two Sum\n",
    "\n",
    "The problem can be found [here](https://leetcode.com/problems/two-sum/).\n",
    "\n",
    "**Given an array of integers nums and an integer target, return indices of the two numbers such that they add up to target.\n",
    "\n",
    "You may assume that each input would have exactly one solution, and you may not use the same element twice.\n",
    "\n",
    "You can return the answer in any order.**\n",
    "\n",
    " \n",
    "\n",
    "Example 1:\n",
    "\n",
    "Input: nums = [2,7,11,15], target = 9\n",
    "Output: [0,1]\n",
    "Explanation: Because nums[0] + nums[1] == 9, we return [0, 1].\n",
    "\n",
    "Example 2:\n",
    "\n",
    "Input: nums = [3,2,4], target = 6\n",
    "Output: [1,2]\n",
    "\n",
    "Example 3:\n",
    "\n",
    "Input: nums = [3,3], target = 6\n",
    "Output: [0,1]\n",
    "\n",
    " \n",
    "\n",
    "Constraints:\n",
    "\n",
    "    2 <= nums.length <= 104\n",
    "    -109 <= nums[i] <= 109\n",
    "    -109 <= target <= 109\n",
    "    Only one valid answer exists."
   ]
  },
  {
   "cell_type": "code",
   "execution_count": 1,
   "metadata": {},
   "outputs": [],
   "source": [
    "# Our input list and target value\n",
    "nums = [2,7,11,15]\n",
    "target = 9\n",
    "\n",
    "class Solution:\n",
    "    def twoSum(self, nums, target):\n",
    "\n",
    "        # If there are only 2 numbers in the list\n",
    "        if len(nums) == 2:\n",
    "\n",
    "            # Return first 2 indeces\n",
    "            return[0,1]\n",
    "        \n",
    "        # If there are more than 2 indeces in the list\n",
    "        # Add an empty dictionary\n",
    "        HashMap = {}\n",
    "\n",
    "        # For each index and number\n",
    "        for index, number in enumerate(nums):\n",
    "\n",
    "            # If the value of target minus the number already exists in the HashMap\n",
    "            if target - number in HashMap:\n",
    "\n",
    "                # Then return the indeces of the current number and the one for the target minus number\n",
    "                return (HashMap[target - number], index)\n",
    "            \n",
    "            # If the target minus number value doesn't exist in the HashMap\n",
    "            # Then add the number to the hashmap with the key being the index.\n",
    "            HashMap[number] = index"
   ]
  },
  {
   "cell_type": "markdown",
   "metadata": {},
   "source": [
    "Let's discuss the solution above. \n",
    "\n",
    "We start out with the same format as undertaken on LeetCode for answering questions, namely a `Solutions` Class and a function for the current problem. \n",
    "\n",
    "We start the workflow by taking care of an edge case where a `nums` list of only 2 indeces is given. In this edge case the 2 numbers will surely add up to the target, so the indeces 0,1 will be returned.\n",
    "\n",
    "If the list is longer than 2 numbers then an empty dictionary (Hashmap) will be created. For each number in the nums list, the target minus number is undertaken and the remainder check for in the Hashmap. If the remainder is not in the Hashmap, then we add the current number in the hashmap. It is added in the following format: \n",
    "- Key: Actual number from nums list\n",
    "- Value: Index of number in nums list \n",
    "\n",
    "Therefore, at some point the the target - number will have a remainder value in the hashmap, and the result is sent as the current number index and the index of the remainder."
   ]
  },
  {
   "cell_type": "code",
   "execution_count": 2,
   "metadata": {},
   "outputs": [
    {
     "data": {
      "text/plain": [
       "(0, 2)"
      ]
     },
     "execution_count": 2,
     "metadata": {},
     "output_type": "execute_result"
    }
   ],
   "source": [
    "# Our input list and target value\n",
    "nums = [2,11,7,15]\n",
    "target = 9\n",
    "\n",
    "s = Solution()\n",
    "s.twoSum(nums, target)"
   ]
  },
  {
   "cell_type": "markdown",
   "metadata": {},
   "source": [
    "---"
   ]
  }
 ],
 "metadata": {
  "kernelspec": {
   "display_name": "base",
   "language": "python",
   "name": "python3"
  },
  "language_info": {
   "codemirror_mode": {
    "name": "ipython",
    "version": 3
   },
   "file_extension": ".py",
   "mimetype": "text/x-python",
   "name": "python",
   "nbconvert_exporter": "python",
   "pygments_lexer": "ipython3",
   "version": "3.12.7"
  }
 },
 "nbformat": 4,
 "nbformat_minor": 2
}
