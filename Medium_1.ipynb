{
 "cells": [
  {
   "cell_type": "markdown",
   "metadata": {},
   "source": [
    "# Medium Questions Notebook 1\n",
    "\n",
    "Welcome folks! Here is the first notebook of the Medium difficulty questions series. I will be undertaking these questions, starting out with the very first leetcode problem. Note that the question numbers are taken from LeetCode itself, which means they may be erratic as some questions of other difficulty are interspersed. The first set of questoins can be found below:"
   ]
  },
  {
   "cell_type": "markdown",
   "metadata": {},
   "source": [
    "## 2. Add Two Numbers\n",
    "\n",
    "The problem can be found [here](https://leetcode.com/problems/add-two-numbers/)\n",
    "You are given two non-empty linked lists representing two non-negative integers. The digits are stored in reverse order, and each of their nodes contains a single digit. Add the two numbers and return the sum as a linked list.\n",
    "\n",
    "You may assume the two numbers do not contain any leading zero, except the number 0 itself.\n",
    "\n",
    " \n",
    "\n",
    "Example 1:\n",
    "\n",
    "Input: l1 = [2,4,3], l2 = [5,6,4]\n",
    "Output: [7,0,8]\n",
    "Explanation: 342 + 465 = 807.\n",
    "\n",
    "Example 2:\n",
    "\n",
    "Input: l1 = [0], l2 = [0]\n",
    "Output: [0]\n",
    "\n",
    "Example 3:\n",
    "\n",
    "Input: l1 = [9,9,9,9,9,9,9], l2 = [9,9,9,9]\n",
    "Output: [8,9,9,9,0,0,0,1]\n",
    "\n",
    " \n",
    "\n",
    "Constraints:\n",
    "\n",
    "    The number of nodes in each linked list is in the range [1, 100].\n",
    "    0 <= Node.val <= 9\n",
    "    It is guaranteed that the list represents a number that does not have leading zeros.\n",
    "\n"
   ]
  },
  {
   "cell_type": "code",
   "execution_count": 1,
   "metadata": {},
   "outputs": [],
   "source": [
    "# Define the singly linked list class\n",
    "class ListNode:\n",
    "    def __init__(self, val=0, next=None):\n",
    "        self.val = val\n",
    "        self.next = next\n",
    "        \n",
    "        \n",
    "class Solution:\n",
    "    def addTwoNumbers(self,  l1: ListNode, l2: ListNode):\n",
    "        \n",
    "        # Create a variable to hold the answer (aka linked list 3) set up as an empty ListNode\n",
    "        answer = l3 = ListNode(0)\n",
    "\n",
    "        # Add a carryover variable if the result is more than 1 digit\n",
    "        carry = 0\n",
    "        \n",
    "        # While l1/l2 or carry has a value in it\n",
    "        while l1 or l2 or carry:\n",
    "\n",
    "            # If l1 has value\n",
    "            if l1:\n",
    "\n",
    "                # carry will add that value and move on to next l1 value\n",
    "                carry += l1.val\n",
    "                l1 = l1.next\n",
    "            \n",
    "            # If l2 has value\n",
    "            if l2:\n",
    "                # carry will add that value and move on to next l2 value\n",
    "                carry += l2.val\n",
    "                l2 = l2.next\n",
    "            \n",
    "            # l3 need to store the units value so carry modulo 10 will provide that\n",
    "            l3.val = carry % 10\n",
    "\n",
    "            # Once the units value has been added to the l3, the tens value can go into carry\n",
    "            carry = carry // 10\n",
    "            \n",
    "            # if any of the values are still present\n",
    "            if l1 or l2 or carry:\n",
    "\n",
    "                # Move l3 to next node to fill as empty\n",
    "                l3.next = ListNode(0)\n",
    "                l3 = l3.next\n",
    "        \n",
    "        # Return the answer which is the same as the l3\n",
    "        return(answer) \n"
   ]
  },
  {
   "cell_type": "markdown",
   "metadata": {},
   "source": [
    "Let's discuss the solution above. \n",
    "\n",
    "We start out with the same format as undertaken on LeetCode for answering questions, namely a `Solutions` Class and a function for the current problem. It has the ListNode class added as default.  \n",
    "\n",
    "We start the workflow by creating 2 variables. \n",
    "- One is a Carry over value in case the addition of 2 numbers leads to more than 1 digit result. \n",
    "- The other is the answer variable which has to be provided as a linked list. \n",
    "\n",
    "It is lucky for us that the linked lists are provided in the reverse order, as addition is undertaken in that order anyway. Essentially manual addition starts from units level then moves to tens and hundreds etc. \n",
    "\n",
    "The very first 2 values we get are the units level of `l1` and `l2`. We add those and if there is more than 1 digit result, then the tens digit is sent to the `carry` variable. Once this is done, the units number is added to `l3`. `l3` is then moved to the next node which is empty. \n",
    "\n",
    "So overall `carry` is updated with the value of `l1` and `l2` (if either exist), and l3 gets the units value of carry while carry itself gets the tens value. This sequence is repeated till either l1, l2 or carry have a value. \n",
    "\n",
    "Finally, `l3` (or `answer`) is returned."
   ]
  },
  {
   "cell_type": "markdown",
   "metadata": {},
   "source": [
    "---"
   ]
  }
 ],
 "metadata": {
  "kernelspec": {
   "display_name": "base",
   "language": "python",
   "name": "python3"
  },
  "language_info": {
   "codemirror_mode": {
    "name": "ipython",
    "version": 3
   },
   "file_extension": ".py",
   "mimetype": "text/x-python",
   "name": "python",
   "nbconvert_exporter": "python",
   "pygments_lexer": "ipython3",
   "version": "3.12.7"
  }
 },
 "nbformat": 4,
 "nbformat_minor": 2
}
